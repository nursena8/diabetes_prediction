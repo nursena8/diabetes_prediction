{
 "cells": [
  {
   "cell_type": "code",
   "execution_count": 1,
   "id": "bdb5a961",
   "metadata": {
    "_cell_guid": "b1076dfc-b9ad-4769-8c92-a6c4dae69d19",
    "_uuid": "8f2839f25d086af736a60e9eeb907d3b93b6e0e5",
    "execution": {
     "iopub.execute_input": "2023-10-31T14:32:15.417848Z",
     "iopub.status.busy": "2023-10-31T14:32:15.416736Z",
     "iopub.status.idle": "2023-10-31T14:32:17.887409Z",
     "shell.execute_reply": "2023-10-31T14:32:17.886063Z"
    },
    "papermill": {
     "duration": 2.494763,
     "end_time": "2023-10-31T14:32:17.890611",
     "exception": false,
     "start_time": "2023-10-31T14:32:15.395848",
     "status": "completed"
    },
    "tags": []
   },
   "outputs": [
    {
     "name": "stdout",
     "output_type": "stream",
     "text": [
      "/kaggle/input/diabetes-dataset/diabetes.csv\n"
     ]
    }
   ],
   "source": [
    "# This Python 3 environment comes with many helpful analytics libraries installed\n",
    "# It is defined by the kaggle/python Docker image: https://github.com/kaggle/docker-python\n",
    "# For example, here's several helpful packages to load\n",
    "\n",
    "import numpy as np # linear algebra\n",
    "import pandas as pd # data processing, CSV file I/O (e.g. pd.read_csv)\n",
    "import seaborn as sns\n",
    "import matplotlib.pyplot as plt\n",
    "from sklearn.preprocessing import RobustScaler\n",
    "from sklearn.linear_model import LogisticRegression\n",
    "from sklearn.metrics import accuracy_score,roc_auc_score,confusion_matrix,classification_report\n",
    "from sklearn.model_selection import cross_validate \n",
    "# Input data files are available in the read-only \"../input/\" directory\n",
    "# For example, running this (by clicking run or pressing Shift+Enter) will list all files under the input directory\n",
    "\n",
    "import os\n",
    "for dirname, _, filenames in os.walk('/kaggle/input'):\n",
    "    for filename in filenames:\n",
    "        print(os.path.join(dirname, filename))\n",
    "\n",
    "# You can write up to 20GB to the current directory (/kaggle/working/) that gets preserved as output when you create a version using \"Save & Run All\" \n",
    "# You can also write temporary files to /kaggle/temp/, but they won't be saved outside of the current session"
   ]
  },
  {
   "cell_type": "code",
   "execution_count": 2,
   "id": "e6e410e7",
   "metadata": {
    "execution": {
     "iopub.execute_input": "2023-10-31T14:32:17.929325Z",
     "iopub.status.busy": "2023-10-31T14:32:17.928641Z",
     "iopub.status.idle": "2023-10-31T14:32:17.934291Z",
     "shell.execute_reply": "2023-10-31T14:32:17.932929Z"
    },
    "papermill": {
     "duration": 0.02779,
     "end_time": "2023-10-31T14:32:17.936899",
     "exception": false,
     "start_time": "2023-10-31T14:32:17.909109",
     "status": "completed"
    },
    "tags": []
   },
   "outputs": [],
   "source": [
    "# eda"
   ]
  },
  {
   "cell_type": "code",
   "execution_count": 3,
   "id": "9e6bbf37",
   "metadata": {
    "execution": {
     "iopub.execute_input": "2023-10-31T14:32:17.974730Z",
     "iopub.status.busy": "2023-10-31T14:32:17.974263Z",
     "iopub.status.idle": "2023-10-31T14:32:18.028165Z",
     "shell.execute_reply": "2023-10-31T14:32:18.026859Z"
    },
    "papermill": {
     "duration": 0.076392,
     "end_time": "2023-10-31T14:32:18.031125",
     "exception": false,
     "start_time": "2023-10-31T14:32:17.954733",
     "status": "completed"
    },
    "tags": []
   },
   "outputs": [
    {
     "data": {
      "text/html": [
       "<div>\n",
       "<style scoped>\n",
       "    .dataframe tbody tr th:only-of-type {\n",
       "        vertical-align: middle;\n",
       "    }\n",
       "\n",
       "    .dataframe tbody tr th {\n",
       "        vertical-align: top;\n",
       "    }\n",
       "\n",
       "    .dataframe thead th {\n",
       "        text-align: right;\n",
       "    }\n",
       "</style>\n",
       "<table border=\"1\" class=\"dataframe\">\n",
       "  <thead>\n",
       "    <tr style=\"text-align: right;\">\n",
       "      <th></th>\n",
       "      <th>Pregnancies</th>\n",
       "      <th>Glucose</th>\n",
       "      <th>BloodPressure</th>\n",
       "      <th>SkinThickness</th>\n",
       "      <th>Insulin</th>\n",
       "      <th>BMI</th>\n",
       "      <th>DiabetesPedigreeFunction</th>\n",
       "      <th>Age</th>\n",
       "      <th>Outcome</th>\n",
       "    </tr>\n",
       "  </thead>\n",
       "  <tbody>\n",
       "    <tr>\n",
       "      <th>0</th>\n",
       "      <td>6</td>\n",
       "      <td>148</td>\n",
       "      <td>72</td>\n",
       "      <td>35</td>\n",
       "      <td>0</td>\n",
       "      <td>33.6</td>\n",
       "      <td>0.627</td>\n",
       "      <td>50</td>\n",
       "      <td>1</td>\n",
       "    </tr>\n",
       "    <tr>\n",
       "      <th>1</th>\n",
       "      <td>1</td>\n",
       "      <td>85</td>\n",
       "      <td>66</td>\n",
       "      <td>29</td>\n",
       "      <td>0</td>\n",
       "      <td>26.6</td>\n",
       "      <td>0.351</td>\n",
       "      <td>31</td>\n",
       "      <td>0</td>\n",
       "    </tr>\n",
       "    <tr>\n",
       "      <th>2</th>\n",
       "      <td>8</td>\n",
       "      <td>183</td>\n",
       "      <td>64</td>\n",
       "      <td>0</td>\n",
       "      <td>0</td>\n",
       "      <td>23.3</td>\n",
       "      <td>0.672</td>\n",
       "      <td>32</td>\n",
       "      <td>1</td>\n",
       "    </tr>\n",
       "    <tr>\n",
       "      <th>3</th>\n",
       "      <td>1</td>\n",
       "      <td>89</td>\n",
       "      <td>66</td>\n",
       "      <td>23</td>\n",
       "      <td>94</td>\n",
       "      <td>28.1</td>\n",
       "      <td>0.167</td>\n",
       "      <td>21</td>\n",
       "      <td>0</td>\n",
       "    </tr>\n",
       "    <tr>\n",
       "      <th>4</th>\n",
       "      <td>0</td>\n",
       "      <td>137</td>\n",
       "      <td>40</td>\n",
       "      <td>35</td>\n",
       "      <td>168</td>\n",
       "      <td>43.1</td>\n",
       "      <td>2.288</td>\n",
       "      <td>33</td>\n",
       "      <td>1</td>\n",
       "    </tr>\n",
       "    <tr>\n",
       "      <th>...</th>\n",
       "      <td>...</td>\n",
       "      <td>...</td>\n",
       "      <td>...</td>\n",
       "      <td>...</td>\n",
       "      <td>...</td>\n",
       "      <td>...</td>\n",
       "      <td>...</td>\n",
       "      <td>...</td>\n",
       "      <td>...</td>\n",
       "    </tr>\n",
       "    <tr>\n",
       "      <th>763</th>\n",
       "      <td>10</td>\n",
       "      <td>101</td>\n",
       "      <td>76</td>\n",
       "      <td>48</td>\n",
       "      <td>180</td>\n",
       "      <td>32.9</td>\n",
       "      <td>0.171</td>\n",
       "      <td>63</td>\n",
       "      <td>0</td>\n",
       "    </tr>\n",
       "    <tr>\n",
       "      <th>764</th>\n",
       "      <td>2</td>\n",
       "      <td>122</td>\n",
       "      <td>70</td>\n",
       "      <td>27</td>\n",
       "      <td>0</td>\n",
       "      <td>36.8</td>\n",
       "      <td>0.340</td>\n",
       "      <td>27</td>\n",
       "      <td>0</td>\n",
       "    </tr>\n",
       "    <tr>\n",
       "      <th>765</th>\n",
       "      <td>5</td>\n",
       "      <td>121</td>\n",
       "      <td>72</td>\n",
       "      <td>23</td>\n",
       "      <td>112</td>\n",
       "      <td>26.2</td>\n",
       "      <td>0.245</td>\n",
       "      <td>30</td>\n",
       "      <td>0</td>\n",
       "    </tr>\n",
       "    <tr>\n",
       "      <th>766</th>\n",
       "      <td>1</td>\n",
       "      <td>126</td>\n",
       "      <td>60</td>\n",
       "      <td>0</td>\n",
       "      <td>0</td>\n",
       "      <td>30.1</td>\n",
       "      <td>0.349</td>\n",
       "      <td>47</td>\n",
       "      <td>1</td>\n",
       "    </tr>\n",
       "    <tr>\n",
       "      <th>767</th>\n",
       "      <td>1</td>\n",
       "      <td>93</td>\n",
       "      <td>70</td>\n",
       "      <td>31</td>\n",
       "      <td>0</td>\n",
       "      <td>30.4</td>\n",
       "      <td>0.315</td>\n",
       "      <td>23</td>\n",
       "      <td>0</td>\n",
       "    </tr>\n",
       "  </tbody>\n",
       "</table>\n",
       "<p>768 rows × 9 columns</p>\n",
       "</div>"
      ],
      "text/plain": [
       "     Pregnancies  Glucose  BloodPressure  SkinThickness  Insulin   BMI  \\\n",
       "0              6      148             72             35        0  33.6   \n",
       "1              1       85             66             29        0  26.6   \n",
       "2              8      183             64              0        0  23.3   \n",
       "3              1       89             66             23       94  28.1   \n",
       "4              0      137             40             35      168  43.1   \n",
       "..           ...      ...            ...            ...      ...   ...   \n",
       "763           10      101             76             48      180  32.9   \n",
       "764            2      122             70             27        0  36.8   \n",
       "765            5      121             72             23      112  26.2   \n",
       "766            1      126             60              0        0  30.1   \n",
       "767            1       93             70             31        0  30.4   \n",
       "\n",
       "     DiabetesPedigreeFunction  Age  Outcome  \n",
       "0                       0.627   50        1  \n",
       "1                       0.351   31        0  \n",
       "2                       0.672   32        1  \n",
       "3                       0.167   21        0  \n",
       "4                       2.288   33        1  \n",
       "..                        ...  ...      ...  \n",
       "763                     0.171   63        0  \n",
       "764                     0.340   27        0  \n",
       "765                     0.245   30        0  \n",
       "766                     0.349   47        1  \n",
       "767                     0.315   23        0  \n",
       "\n",
       "[768 rows x 9 columns]"
      ]
     },
     "execution_count": 3,
     "metadata": {},
     "output_type": "execute_result"
    }
   ],
   "source": [
    "df=pd.read_csv(\"/kaggle/input/diabetes-dataset/diabetes.csv\")\n",
    "df"
   ]
  },
  {
   "cell_type": "code",
   "execution_count": 4,
   "id": "1a2a5ccd",
   "metadata": {
    "execution": {
     "iopub.execute_input": "2023-10-31T14:32:18.069867Z",
     "iopub.status.busy": "2023-10-31T14:32:18.069410Z",
     "iopub.status.idle": "2023-10-31T14:32:18.099205Z",
     "shell.execute_reply": "2023-10-31T14:32:18.096720Z"
    },
    "papermill": {
     "duration": 0.0529,
     "end_time": "2023-10-31T14:32:18.102112",
     "exception": false,
     "start_time": "2023-10-31T14:32:18.049212",
     "status": "completed"
    },
    "tags": []
   },
   "outputs": [
    {
     "name": "stdout",
     "output_type": "stream",
     "text": [
      "<class 'pandas.core.frame.DataFrame'>\n",
      "RangeIndex: 768 entries, 0 to 767\n",
      "Data columns (total 9 columns):\n",
      " #   Column                    Non-Null Count  Dtype  \n",
      "---  ------                    --------------  -----  \n",
      " 0   Pregnancies               768 non-null    int64  \n",
      " 1   Glucose                   768 non-null    int64  \n",
      " 2   BloodPressure             768 non-null    int64  \n",
      " 3   SkinThickness             768 non-null    int64  \n",
      " 4   Insulin                   768 non-null    int64  \n",
      " 5   BMI                       768 non-null    float64\n",
      " 6   DiabetesPedigreeFunction  768 non-null    float64\n",
      " 7   Age                       768 non-null    int64  \n",
      " 8   Outcome                   768 non-null    int64  \n",
      "dtypes: float64(2), int64(7)\n",
      "memory usage: 54.1 KB\n"
     ]
    }
   ],
   "source": [
    "df.info()"
   ]
  },
  {
   "cell_type": "code",
   "execution_count": 5,
   "id": "b29a69c8",
   "metadata": {
    "execution": {
     "iopub.execute_input": "2023-10-31T14:32:18.142210Z",
     "iopub.status.busy": "2023-10-31T14:32:18.141348Z",
     "iopub.status.idle": "2023-10-31T14:32:18.186307Z",
     "shell.execute_reply": "2023-10-31T14:32:18.185302Z"
    },
    "papermill": {
     "duration": 0.067749,
     "end_time": "2023-10-31T14:32:18.188862",
     "exception": false,
     "start_time": "2023-10-31T14:32:18.121113",
     "status": "completed"
    },
    "tags": []
   },
   "outputs": [
    {
     "data": {
      "text/html": [
       "<div>\n",
       "<style scoped>\n",
       "    .dataframe tbody tr th:only-of-type {\n",
       "        vertical-align: middle;\n",
       "    }\n",
       "\n",
       "    .dataframe tbody tr th {\n",
       "        vertical-align: top;\n",
       "    }\n",
       "\n",
       "    .dataframe thead th {\n",
       "        text-align: right;\n",
       "    }\n",
       "</style>\n",
       "<table border=\"1\" class=\"dataframe\">\n",
       "  <thead>\n",
       "    <tr style=\"text-align: right;\">\n",
       "      <th></th>\n",
       "      <th>count</th>\n",
       "      <th>mean</th>\n",
       "      <th>std</th>\n",
       "      <th>min</th>\n",
       "      <th>25%</th>\n",
       "      <th>50%</th>\n",
       "      <th>75%</th>\n",
       "      <th>max</th>\n",
       "    </tr>\n",
       "  </thead>\n",
       "  <tbody>\n",
       "    <tr>\n",
       "      <th>Pregnancies</th>\n",
       "      <td>768.0</td>\n",
       "      <td>3.845052</td>\n",
       "      <td>3.369578</td>\n",
       "      <td>0.000</td>\n",
       "      <td>1.00000</td>\n",
       "      <td>3.0000</td>\n",
       "      <td>6.00000</td>\n",
       "      <td>17.00</td>\n",
       "    </tr>\n",
       "    <tr>\n",
       "      <th>Glucose</th>\n",
       "      <td>768.0</td>\n",
       "      <td>120.894531</td>\n",
       "      <td>31.972618</td>\n",
       "      <td>0.000</td>\n",
       "      <td>99.00000</td>\n",
       "      <td>117.0000</td>\n",
       "      <td>140.25000</td>\n",
       "      <td>199.00</td>\n",
       "    </tr>\n",
       "    <tr>\n",
       "      <th>BloodPressure</th>\n",
       "      <td>768.0</td>\n",
       "      <td>69.105469</td>\n",
       "      <td>19.355807</td>\n",
       "      <td>0.000</td>\n",
       "      <td>62.00000</td>\n",
       "      <td>72.0000</td>\n",
       "      <td>80.00000</td>\n",
       "      <td>122.00</td>\n",
       "    </tr>\n",
       "    <tr>\n",
       "      <th>SkinThickness</th>\n",
       "      <td>768.0</td>\n",
       "      <td>20.536458</td>\n",
       "      <td>15.952218</td>\n",
       "      <td>0.000</td>\n",
       "      <td>0.00000</td>\n",
       "      <td>23.0000</td>\n",
       "      <td>32.00000</td>\n",
       "      <td>99.00</td>\n",
       "    </tr>\n",
       "    <tr>\n",
       "      <th>Insulin</th>\n",
       "      <td>768.0</td>\n",
       "      <td>79.799479</td>\n",
       "      <td>115.244002</td>\n",
       "      <td>0.000</td>\n",
       "      <td>0.00000</td>\n",
       "      <td>30.5000</td>\n",
       "      <td>127.25000</td>\n",
       "      <td>846.00</td>\n",
       "    </tr>\n",
       "    <tr>\n",
       "      <th>BMI</th>\n",
       "      <td>768.0</td>\n",
       "      <td>31.992578</td>\n",
       "      <td>7.884160</td>\n",
       "      <td>0.000</td>\n",
       "      <td>27.30000</td>\n",
       "      <td>32.0000</td>\n",
       "      <td>36.60000</td>\n",
       "      <td>67.10</td>\n",
       "    </tr>\n",
       "    <tr>\n",
       "      <th>DiabetesPedigreeFunction</th>\n",
       "      <td>768.0</td>\n",
       "      <td>0.471876</td>\n",
       "      <td>0.331329</td>\n",
       "      <td>0.078</td>\n",
       "      <td>0.24375</td>\n",
       "      <td>0.3725</td>\n",
       "      <td>0.62625</td>\n",
       "      <td>2.42</td>\n",
       "    </tr>\n",
       "    <tr>\n",
       "      <th>Age</th>\n",
       "      <td>768.0</td>\n",
       "      <td>33.240885</td>\n",
       "      <td>11.760232</td>\n",
       "      <td>21.000</td>\n",
       "      <td>24.00000</td>\n",
       "      <td>29.0000</td>\n",
       "      <td>41.00000</td>\n",
       "      <td>81.00</td>\n",
       "    </tr>\n",
       "    <tr>\n",
       "      <th>Outcome</th>\n",
       "      <td>768.0</td>\n",
       "      <td>0.348958</td>\n",
       "      <td>0.476951</td>\n",
       "      <td>0.000</td>\n",
       "      <td>0.00000</td>\n",
       "      <td>0.0000</td>\n",
       "      <td>1.00000</td>\n",
       "      <td>1.00</td>\n",
       "    </tr>\n",
       "  </tbody>\n",
       "</table>\n",
       "</div>"
      ],
      "text/plain": [
       "                          count        mean         std     min       25%  \\\n",
       "Pregnancies               768.0    3.845052    3.369578   0.000   1.00000   \n",
       "Glucose                   768.0  120.894531   31.972618   0.000  99.00000   \n",
       "BloodPressure             768.0   69.105469   19.355807   0.000  62.00000   \n",
       "SkinThickness             768.0   20.536458   15.952218   0.000   0.00000   \n",
       "Insulin                   768.0   79.799479  115.244002   0.000   0.00000   \n",
       "BMI                       768.0   31.992578    7.884160   0.000  27.30000   \n",
       "DiabetesPedigreeFunction  768.0    0.471876    0.331329   0.078   0.24375   \n",
       "Age                       768.0   33.240885   11.760232  21.000  24.00000   \n",
       "Outcome                   768.0    0.348958    0.476951   0.000   0.00000   \n",
       "\n",
       "                               50%        75%     max  \n",
       "Pregnancies                 3.0000    6.00000   17.00  \n",
       "Glucose                   117.0000  140.25000  199.00  \n",
       "BloodPressure              72.0000   80.00000  122.00  \n",
       "SkinThickness              23.0000   32.00000   99.00  \n",
       "Insulin                    30.5000  127.25000  846.00  \n",
       "BMI                        32.0000   36.60000   67.10  \n",
       "DiabetesPedigreeFunction    0.3725    0.62625    2.42  \n",
       "Age                        29.0000   41.00000   81.00  \n",
       "Outcome                     0.0000    1.00000    1.00  "
      ]
     },
     "execution_count": 5,
     "metadata": {},
     "output_type": "execute_result"
    }
   ],
   "source": [
    "df.describe().T"
   ]
  },
  {
   "cell_type": "code",
   "execution_count": 6,
   "id": "bae1c8d0",
   "metadata": {
    "execution": {
     "iopub.execute_input": "2023-10-31T14:32:18.229640Z",
     "iopub.status.busy": "2023-10-31T14:32:18.228835Z",
     "iopub.status.idle": "2023-10-31T14:32:18.237754Z",
     "shell.execute_reply": "2023-10-31T14:32:18.236748Z"
    },
    "papermill": {
     "duration": 0.032339,
     "end_time": "2023-10-31T14:32:18.240336",
     "exception": false,
     "start_time": "2023-10-31T14:32:18.207997",
     "status": "completed"
    },
    "tags": []
   },
   "outputs": [
    {
     "data": {
      "text/plain": [
       "Pregnancies                 0\n",
       "Glucose                     0\n",
       "BloodPressure               0\n",
       "SkinThickness               0\n",
       "Insulin                     0\n",
       "BMI                         0\n",
       "DiabetesPedigreeFunction    0\n",
       "Age                         0\n",
       "Outcome                     0\n",
       "dtype: int64"
      ]
     },
     "execution_count": 6,
     "metadata": {},
     "output_type": "execute_result"
    }
   ],
   "source": [
    "df.isnull().sum() "
   ]
  },
  {
   "cell_type": "code",
   "execution_count": 7,
   "id": "fee175b9",
   "metadata": {
    "execution": {
     "iopub.execute_input": "2023-10-31T14:32:18.282278Z",
     "iopub.status.busy": "2023-10-31T14:32:18.280847Z",
     "iopub.status.idle": "2023-10-31T14:32:18.288732Z",
     "shell.execute_reply": "2023-10-31T14:32:18.287504Z"
    },
    "papermill": {
     "duration": 0.031588,
     "end_time": "2023-10-31T14:32:18.291224",
     "exception": false,
     "start_time": "2023-10-31T14:32:18.259636",
     "status": "completed"
    },
    "tags": []
   },
   "outputs": [
    {
     "data": {
      "text/plain": [
       "(768, 9)"
      ]
     },
     "execution_count": 7,
     "metadata": {},
     "output_type": "execute_result"
    }
   ],
   "source": [
    "df.shape"
   ]
  },
  {
   "cell_type": "code",
   "execution_count": 8,
   "id": "3e2e9c67",
   "metadata": {
    "execution": {
     "iopub.execute_input": "2023-10-31T14:32:18.331997Z",
     "iopub.status.busy": "2023-10-31T14:32:18.331440Z",
     "iopub.status.idle": "2023-10-31T14:32:18.356522Z",
     "shell.execute_reply": "2023-10-31T14:32:18.355239Z"
    },
    "papermill": {
     "duration": 0.049202,
     "end_time": "2023-10-31T14:32:18.359659",
     "exception": false,
     "start_time": "2023-10-31T14:32:18.310457",
     "status": "completed"
    },
    "tags": []
   },
   "outputs": [
    {
     "data": {
      "text/html": [
       "<div>\n",
       "<style scoped>\n",
       "    .dataframe tbody tr th:only-of-type {\n",
       "        vertical-align: middle;\n",
       "    }\n",
       "\n",
       "    .dataframe tbody tr th {\n",
       "        vertical-align: top;\n",
       "    }\n",
       "\n",
       "    .dataframe thead th {\n",
       "        text-align: right;\n",
       "    }\n",
       "</style>\n",
       "<table border=\"1\" class=\"dataframe\">\n",
       "  <thead>\n",
       "    <tr style=\"text-align: right;\">\n",
       "      <th></th>\n",
       "      <th>Pregnancies</th>\n",
       "      <th>Glucose</th>\n",
       "      <th>BloodPressure</th>\n",
       "      <th>SkinThickness</th>\n",
       "      <th>Insulin</th>\n",
       "      <th>BMI</th>\n",
       "      <th>DiabetesPedigreeFunction</th>\n",
       "      <th>Age</th>\n",
       "      <th>Outcome</th>\n",
       "    </tr>\n",
       "  </thead>\n",
       "  <tbody>\n",
       "    <tr>\n",
       "      <th>0.00</th>\n",
       "      <td>0.0</td>\n",
       "      <td>0.0</td>\n",
       "      <td>0.0</td>\n",
       "      <td>0.00</td>\n",
       "      <td>0.0</td>\n",
       "      <td>0.000</td>\n",
       "      <td>0.07800</td>\n",
       "      <td>21.0</td>\n",
       "      <td>0.0</td>\n",
       "    </tr>\n",
       "    <tr>\n",
       "      <th>0.50</th>\n",
       "      <td>3.0</td>\n",
       "      <td>117.0</td>\n",
       "      <td>72.0</td>\n",
       "      <td>23.00</td>\n",
       "      <td>30.5</td>\n",
       "      <td>32.000</td>\n",
       "      <td>0.37250</td>\n",
       "      <td>29.0</td>\n",
       "      <td>0.0</td>\n",
       "    </tr>\n",
       "    <tr>\n",
       "      <th>0.95</th>\n",
       "      <td>10.0</td>\n",
       "      <td>181.0</td>\n",
       "      <td>90.0</td>\n",
       "      <td>44.00</td>\n",
       "      <td>293.0</td>\n",
       "      <td>44.395</td>\n",
       "      <td>1.13285</td>\n",
       "      <td>58.0</td>\n",
       "      <td>1.0</td>\n",
       "    </tr>\n",
       "    <tr>\n",
       "      <th>0.99</th>\n",
       "      <td>13.0</td>\n",
       "      <td>196.0</td>\n",
       "      <td>106.0</td>\n",
       "      <td>51.33</td>\n",
       "      <td>519.9</td>\n",
       "      <td>50.759</td>\n",
       "      <td>1.69833</td>\n",
       "      <td>67.0</td>\n",
       "      <td>1.0</td>\n",
       "    </tr>\n",
       "    <tr>\n",
       "      <th>1.00</th>\n",
       "      <td>17.0</td>\n",
       "      <td>199.0</td>\n",
       "      <td>122.0</td>\n",
       "      <td>99.00</td>\n",
       "      <td>846.0</td>\n",
       "      <td>67.100</td>\n",
       "      <td>2.42000</td>\n",
       "      <td>81.0</td>\n",
       "      <td>1.0</td>\n",
       "    </tr>\n",
       "  </tbody>\n",
       "</table>\n",
       "</div>"
      ],
      "text/plain": [
       "      Pregnancies  Glucose  BloodPressure  SkinThickness  Insulin     BMI  \\\n",
       "0.00          0.0      0.0            0.0           0.00      0.0   0.000   \n",
       "0.50          3.0    117.0           72.0          23.00     30.5  32.000   \n",
       "0.95         10.0    181.0           90.0          44.00    293.0  44.395   \n",
       "0.99         13.0    196.0          106.0          51.33    519.9  50.759   \n",
       "1.00         17.0    199.0          122.0          99.00    846.0  67.100   \n",
       "\n",
       "      DiabetesPedigreeFunction   Age  Outcome  \n",
       "0.00                   0.07800  21.0      0.0  \n",
       "0.50                   0.37250  29.0      0.0  \n",
       "0.95                   1.13285  58.0      1.0  \n",
       "0.99                   1.69833  67.0      1.0  \n",
       "1.00                   2.42000  81.0      1.0  "
      ]
     },
     "execution_count": 8,
     "metadata": {},
     "output_type": "execute_result"
    }
   ],
   "source": [
    "df.quantile([0,0.50, 0.95, 0.99, 1])"
   ]
  },
  {
   "cell_type": "code",
   "execution_count": 9,
   "id": "336cb0d8",
   "metadata": {
    "execution": {
     "iopub.execute_input": "2023-10-31T14:32:18.401945Z",
     "iopub.status.busy": "2023-10-31T14:32:18.401442Z",
     "iopub.status.idle": "2023-10-31T14:32:18.406674Z",
     "shell.execute_reply": "2023-10-31T14:32:18.405602Z"
    },
    "papermill": {
     "duration": 0.02972,
     "end_time": "2023-10-31T14:32:18.409598",
     "exception": false,
     "start_time": "2023-10-31T14:32:18.379878",
     "status": "completed"
    },
    "tags": []
   },
   "outputs": [],
   "source": [
    "#There are 768 record and 9 features in the dataset.\n",
    "#Maybe seen there aren't nan values in the dataset but \"Glucose\",\"BloodPressure\",\"Insulin\",\"BMI\"\n",
    "#cant be 0 .there is missing value in there.\n",
    "#There are 768 records and 9 features in the dataset. While there may not be any missing values in the dataset, it's important to note that 'Glucose,' 'BloodPressure,' 'Insulin,' and 'BMI' cannot be equal to 0; there may be missing values in these columns."
   ]
  },
  {
   "cell_type": "code",
   "execution_count": 10,
   "id": "3bbf7e06",
   "metadata": {
    "execution": {
     "iopub.execute_input": "2023-10-31T14:32:18.454579Z",
     "iopub.status.busy": "2023-10-31T14:32:18.453012Z",
     "iopub.status.idle": "2023-10-31T14:32:18.712487Z",
     "shell.execute_reply": "2023-10-31T14:32:18.711284Z"
    },
    "papermill": {
     "duration": 0.284723,
     "end_time": "2023-10-31T14:32:18.715669",
     "exception": false,
     "start_time": "2023-10-31T14:32:18.430946",
     "status": "completed"
    },
    "tags": []
   },
   "outputs": [
    {
     "data": {
      "image/png": "[encoded data removed]",
      "text/plain": [
       "<Figure size 640x480 with 1 Axes>"
      ]
     },
     "metadata": {},
     "output_type": "display_data"
    }
   ],
   "source": [
    "sns.countplot(x=\"Outcome\", data=df)\n",
    "plt.show()"
   ]
  },
  {
   "cell_type": "code",
   "execution_count": 11,
   "id": "ac282d9f",
   "metadata": {
    "execution": {
     "iopub.execute_input": "2023-10-31T14:32:18.759163Z",
     "iopub.status.busy": "2023-10-31T14:32:18.758660Z",
     "iopub.status.idle": "2023-10-31T14:32:18.770315Z",
     "shell.execute_reply": "2023-10-31T14:32:18.768928Z"
    },
    "papermill": {
     "duration": 0.037996,
     "end_time": "2023-10-31T14:32:18.773419",
     "exception": false,
     "start_time": "2023-10-31T14:32:18.735423",
     "status": "completed"
    },
    "tags": []
   },
   "outputs": [
    {
     "data": {
      "text/plain": [
       "Outcome\n",
       "0    65.104167\n",
       "1    34.895833\n",
       "Name: count, dtype: float64"
      ]
     },
     "execution_count": 11,
     "metadata": {},
     "output_type": "execute_result"
    }
   ],
   "source": [
    "100 * df[\"Outcome\"].value_counts() / len(df)#dataframein %34 u diabetdir."
   ]
  },
  {
   "cell_type": "code",
   "execution_count": 12,
   "id": "07abef86",
   "metadata": {
    "execution": {
     "iopub.execute_input": "2023-10-31T14:32:18.911367Z",
     "iopub.status.busy": "2023-10-31T14:32:18.910821Z",
     "iopub.status.idle": "2023-10-31T14:32:18.917301Z",
     "shell.execute_reply": "2023-10-31T14:32:18.915915Z"
    },
    "papermill": {
     "duration": 0.126557,
     "end_time": "2023-10-31T14:32:18.919698",
     "exception": false,
     "start_time": "2023-10-31T14:32:18.793141",
     "status": "completed"
    },
    "tags": []
   },
   "outputs": [],
   "source": [
    "def plot_numerical_col(df, numerical_col): \n",
    "    df[numerical_col].hist(bins=20)\n",
    "    plt.xlabel(numerical_col)\n",
    "    plt.show(block=True)"
   ]
  },
  {
   "cell_type": "code",
   "execution_count": 13,
   "id": "85df4ded",
   "metadata": {
    "execution": {
     "iopub.execute_input": "2023-10-31T14:32:18.961592Z",
     "iopub.status.busy": "2023-10-31T14:32:18.961063Z",
     "iopub.status.idle": "2023-10-31T14:32:18.974753Z",
     "shell.execute_reply": "2023-10-31T14:32:18.973146Z"
    },
    "papermill": {
     "duration": 0.038108,
     "end_time": "2023-10-31T14:32:18.977645",
     "exception": false,
     "start_time": "2023-10-31T14:32:18.939537",
     "status": "completed"
    },
    "tags": []
   },
   "outputs": [],
   "source": [
    "df.groupby(\"Outcome\").agg({\"Pregnancies\": \"mean\"}) #tek incelemek için\n",
    "def target_summary_with_num(df, target, numerical_col):\n",
    "    print(df.groupby(\"Outcome\").agg({numerical_col:\"mean\"}),end=\"\\n\\n\\n\")"
   ]
  },
  {
   "cell_type": "code",
   "execution_count": 14,
   "id": "9d931acc",
   "metadata": {
    "execution": {
     "iopub.execute_input": "2023-10-31T14:32:19.020893Z",
     "iopub.status.busy": "2023-10-31T14:32:19.020420Z",
     "iopub.status.idle": "2023-10-31T14:32:19.053754Z",
     "shell.execute_reply": "2023-10-31T14:32:19.052393Z"
    },
    "papermill": {
     "duration": 0.058614,
     "end_time": "2023-10-31T14:32:19.057118",
     "exception": false,
     "start_time": "2023-10-31T14:32:18.998504",
     "status": "completed"
    },
    "tags": []
   },
   "outputs": [
    {
     "name": "stdout",
     "output_type": "stream",
     "text": [
      "         Pregnancies\n",
      "Outcome             \n",
      "0           3.298000\n",
      "1           4.865672\n",
      "\n",
      "\n",
      "            Glucose\n",
      "Outcome            \n",
      "0        109.980000\n",
      "1        141.257463\n",
      "\n",
      "\n",
      "         BloodPressure\n",
      "Outcome               \n",
      "0            68.184000\n",
      "1            70.824627\n",
      "\n",
      "\n",
      "         SkinThickness\n",
      "Outcome               \n",
      "0            19.664000\n",
      "1            22.164179\n",
      "\n",
      "\n",
      "            Insulin\n",
      "Outcome            \n",
      "0         68.792000\n",
      "1        100.335821\n",
      "\n",
      "\n",
      "               BMI\n",
      "Outcome           \n",
      "0        30.304200\n",
      "1        35.142537\n",
      "\n",
      "\n",
      "         DiabetesPedigreeFunction\n",
      "Outcome                          \n",
      "0                        0.429734\n",
      "1                        0.550500\n",
      "\n",
      "\n",
      "               Age\n",
      "Outcome           \n",
      "0        31.190000\n",
      "1        37.067164\n",
      "\n",
      "\n"
     ]
    }
   ],
   "source": [
    "cols=[col for col in df.columns if \"Outcome\" not in col] # without outcome\n",
    "for col in cols:\n",
    "    target_summary_with_num(df,\"Outcome\",col)"
   ]
  },
  {
   "cell_type": "code",
   "execution_count": 15,
   "id": "3f12ef7c",
   "metadata": {
    "execution": {
     "iopub.execute_input": "2023-10-31T14:32:19.100436Z",
     "iopub.status.busy": "2023-10-31T14:32:19.099918Z",
     "iopub.status.idle": "2023-10-31T14:32:22.045452Z",
     "shell.execute_reply": "2023-10-31T14:32:22.044034Z"
    },
    "papermill": {
     "duration": 2.97167,
     "end_time": "2023-10-31T14:32:22.049760",
     "exception": false,
     "start_time": "2023-10-31T14:32:19.078090",
     "status": "completed"
    },
    "tags": []
   },
   "outputs": [
    {
     "data": {
      "image/png": "[encoded data removed]",
      "text/plain": [
       "<Figure size 640x480 with 1 Axes>"
      ]
     },
     "metadata": {},
     "output_type": "display_data"
    },
    {
     "data": {
      "image/png": "[encoded data removed]",
      "text/plain": [
       "<Figure size 640x480 with 1 Axes>"
      ]
     },
     "metadata": {},
     "output_type": "display_data"
    },
    {
     "data": {
      "image/png": "[encoded data removed]",
      "text/plain": [
       "<Figure size 640x480 with 1 Axes>"
      ]
     },
     "metadata": {},
     "output_type": "display_data"
    },
    {
     "data": {
      "image/png": "[encoded data removed]",
      "text/plain": [
       "<Figure size 640x480 with 1 Axes>"
      ]
     },
     "metadata": {},
     "output_type": "display_data"
    },
    {
     "data": {
      "image/png": "[encoded data removed]",
      "text/plain": [
       "<Figure size 640x480 with 1 Axes>"
      ]
     },
     "metadata": {},
     "output_type": "display_data"
    },
    {
     "data": {
      "image/png": "[encoded data removed]",
      "text/plain": [
       "<Figure size 640x480 with 1 Axes>"
      ]
     },
     "metadata": {},
     "output_type": "display_data"
    },
    {
     "data": {
      "image/png": "[encoded data removed]",
      "text/plain": [
       "<Figure size 640x480 with 1 Axes>"
      ]
     },
     "metadata": {},
     "output_type": "display_data"
    },
    {
     "data": {
      "image/png": "[encoded data removed]",
      "text/plain": [
       "<Figure size 640x480 with 1 Axes>"
      ]
     },
     "metadata": {},
     "output_type": "display_data"
    },
    {
     "data": {
      "image/png": "[encoded data removed]",
      "text/plain": [
       "<Figure size 640x480 with 1 Axes>"
      ]
     },
     "metadata": {},
     "output_type": "display_data"
    }
   ],
   "source": [
    "for col in df.columns:\n",
    "    plot_numerical_col(df, col)"
   ]
  },
  {
   "cell_type": "code",
   "execution_count": 16,
   "id": "6b5115a5",
   "metadata": {
    "execution": {
     "iopub.execute_input": "2023-10-31T14:32:22.115274Z",
     "iopub.status.busy": "2023-10-31T14:32:22.114781Z",
     "iopub.status.idle": "2023-10-31T14:32:24.537732Z",
     "shell.execute_reply": "2023-10-31T14:32:24.536772Z"
    },
    "papermill": {
     "duration": 2.454171,
     "end_time": "2023-10-31T14:32:24.540322",
     "exception": false,
     "start_time": "2023-10-31T14:32:22.086151",
     "status": "completed"
    },
    "tags": []
   },
   "outputs": [
    {
     "data": {
      "image/png": "[encoded data removed]",
      "text/plain": [
       "<Figure size 640x480 with 1 Axes>"
      ]
     },
     "metadata": {},
     "output_type": "display_data"
    },
    {
     "data": {
      "image/png": "[encoded data removed]",
      "text/plain": [
       "<Figure size 640x480 with 1 Axes>"
      ]
     },
     "metadata": {},
     "output_type": "display_data"
    },
    {
     "data": {
      "image/png": "[encoded data removed]",
      "text/plain": [
       "<Figure size 640x480 with 1 Axes>"
      ]
     },
     "metadata": {},
     "output_type": "display_data"
    },
    {
     "data": {
      "image/png": "[encoded data removed]",
      "text/plain": [
       "<Figure size 640x480 with 1 Axes>"
      ]
     },
     "metadata": {},
     "output_type": "display_data"
    },
    {
     "data": {
      "image/png": "[encoded data removed]",
      "text/plain": [
       "<Figure size 640x480 with 1 Axes>"
      ]
     },
     "metadata": {},
     "output_type": "display_data"
    },
    {
     "data": {
      "image/png": "[encoded data removed]",
      "text/plain": [
       "<Figure size 640x480 with 1 Axes>"
      ]
     },
     "metadata": {},
     "output_type": "display_data"
    },
    {
     "data": {
      "image/png": "[encoded data removed]",
      "text/plain": [
       "<Figure size 640x480 with 1 Axes>"
      ]
     },
     "metadata": {},
     "output_type": "display_data"
    },
    {
     "data": {
      "image/png": "[encoded data removed]",
      "text/plain": [
       "<Figure size 640x480 with 1 Axes>"
      ]
     },
     "metadata": {},
     "output_type": "display_data"
    }
   ],
   "source": [
    "cols=[col for col in df.columns if \"Outcome\" not in col] # without outcome\n",
    "for col in cols:\n",
    "    plot_numerical_col(df,col)"
   ]
  },
  {
   "cell_type": "code",
   "execution_count": 17,
   "id": "b41ef1c4",
   "metadata": {
    "execution": {
     "iopub.execute_input": "2023-10-31T14:32:24.597497Z",
     "iopub.status.busy": "2023-10-31T14:32:24.596719Z",
     "iopub.status.idle": "2023-10-31T14:32:25.318358Z",
     "shell.execute_reply": "2023-10-31T14:32:25.317151Z"
    },
    "papermill": {
     "duration": 0.754234,
     "end_time": "2023-10-31T14:32:25.321549",
     "exception": false,
     "start_time": "2023-10-31T14:32:24.567315",
     "status": "completed"
    },
    "tags": []
   },
   "outputs": [
    {
     "data": {
      "text/plain": [
       "<Axes: >"
      ]
     },
     "execution_count": 17,
     "metadata": {},
     "output_type": "execute_result"
    },
    {
     "data": {
      "image/png": "[encoded data removed]",
      "text/plain": [
       "<Figure size 640x480 with 2 Axes>"
      ]
     },
     "metadata": {},
     "output_type": "display_data"
    }
   ],
   "source": [
    "sns.heatmap(df.corr(),annot=True)"
   ]
  },
  {
   "cell_type": "code",
   "execution_count": 18,
   "id": "66fdbf1c",
   "metadata": {
    "execution": {
     "iopub.execute_input": "2023-10-31T14:32:25.383502Z",
     "iopub.status.busy": "2023-10-31T14:32:25.382478Z",
     "iopub.status.idle": "2023-10-31T14:32:25.388196Z",
     "shell.execute_reply": "2023-10-31T14:32:25.386745Z"
    },
    "papermill": {
     "duration": 0.039731,
     "end_time": "2023-10-31T14:32:25.391320",
     "exception": false,
     "start_time": "2023-10-31T14:32:25.351589",
     "status": "completed"
    },
    "tags": []
   },
   "outputs": [],
   "source": [
    "#data pre-processing"
   ]
  },
  {
   "cell_type": "code",
   "execution_count": 19,
   "id": "17c20897",
   "metadata": {
    "execution": {
     "iopub.execute_input": "2023-10-31T14:32:25.451311Z",
     "iopub.status.busy": "2023-10-31T14:32:25.450813Z",
     "iopub.status.idle": "2023-10-31T14:32:25.497564Z",
     "shell.execute_reply": "2023-10-31T14:32:25.496166Z"
    },
    "papermill": {
     "duration": 0.080444,
     "end_time": "2023-10-31T14:32:25.500784",
     "exception": false,
     "start_time": "2023-10-31T14:32:25.420340",
     "status": "completed"
    },
    "tags": []
   },
   "outputs": [
    {
     "data": {
      "text/html": [
       "<div>\n",
       "<style scoped>\n",
       "    .dataframe tbody tr th:only-of-type {\n",
       "        vertical-align: middle;\n",
       "    }\n",
       "\n",
       "    .dataframe tbody tr th {\n",
       "        vertical-align: top;\n",
       "    }\n",
       "\n",
       "    .dataframe thead th {\n",
       "        text-align: right;\n",
       "    }\n",
       "</style>\n",
       "<table border=\"1\" class=\"dataframe\">\n",
       "  <thead>\n",
       "    <tr style=\"text-align: right;\">\n",
       "      <th></th>\n",
       "      <th>count</th>\n",
       "      <th>mean</th>\n",
       "      <th>std</th>\n",
       "      <th>min</th>\n",
       "      <th>25%</th>\n",
       "      <th>50%</th>\n",
       "      <th>75%</th>\n",
       "      <th>max</th>\n",
       "    </tr>\n",
       "  </thead>\n",
       "  <tbody>\n",
       "    <tr>\n",
       "      <th>Pregnancies</th>\n",
       "      <td>768.0</td>\n",
       "      <td>3.845052</td>\n",
       "      <td>3.369578</td>\n",
       "      <td>0.000</td>\n",
       "      <td>1.00000</td>\n",
       "      <td>3.0000</td>\n",
       "      <td>6.00000</td>\n",
       "      <td>17.00</td>\n",
       "    </tr>\n",
       "    <tr>\n",
       "      <th>Glucose</th>\n",
       "      <td>768.0</td>\n",
       "      <td>120.894531</td>\n",
       "      <td>31.972618</td>\n",
       "      <td>0.000</td>\n",
       "      <td>99.00000</td>\n",
       "      <td>117.0000</td>\n",
       "      <td>140.25000</td>\n",
       "      <td>199.00</td>\n",
       "    </tr>\n",
       "    <tr>\n",
       "      <th>BloodPressure</th>\n",
       "      <td>768.0</td>\n",
       "      <td>69.105469</td>\n",
       "      <td>19.355807</td>\n",
       "      <td>0.000</td>\n",
       "      <td>62.00000</td>\n",
       "      <td>72.0000</td>\n",
       "      <td>80.00000</td>\n",
       "      <td>122.00</td>\n",
       "    </tr>\n",
       "    <tr>\n",
       "      <th>SkinThickness</th>\n",
       "      <td>768.0</td>\n",
       "      <td>20.536458</td>\n",
       "      <td>15.952218</td>\n",
       "      <td>0.000</td>\n",
       "      <td>0.00000</td>\n",
       "      <td>23.0000</td>\n",
       "      <td>32.00000</td>\n",
       "      <td>99.00</td>\n",
       "    </tr>\n",
       "    <tr>\n",
       "      <th>Insulin</th>\n",
       "      <td>768.0</td>\n",
       "      <td>79.799479</td>\n",
       "      <td>115.244002</td>\n",
       "      <td>0.000</td>\n",
       "      <td>0.00000</td>\n",
       "      <td>30.5000</td>\n",
       "      <td>127.25000</td>\n",
       "      <td>846.00</td>\n",
       "    </tr>\n",
       "    <tr>\n",
       "      <th>BMI</th>\n",
       "      <td>768.0</td>\n",
       "      <td>31.992578</td>\n",
       "      <td>7.884160</td>\n",
       "      <td>0.000</td>\n",
       "      <td>27.30000</td>\n",
       "      <td>32.0000</td>\n",
       "      <td>36.60000</td>\n",
       "      <td>67.10</td>\n",
       "    </tr>\n",
       "    <tr>\n",
       "      <th>DiabetesPedigreeFunction</th>\n",
       "      <td>768.0</td>\n",
       "      <td>0.471876</td>\n",
       "      <td>0.331329</td>\n",
       "      <td>0.078</td>\n",
       "      <td>0.24375</td>\n",
       "      <td>0.3725</td>\n",
       "      <td>0.62625</td>\n",
       "      <td>2.42</td>\n",
       "    </tr>\n",
       "    <tr>\n",
       "      <th>Age</th>\n",
       "      <td>768.0</td>\n",
       "      <td>33.240885</td>\n",
       "      <td>11.760232</td>\n",
       "      <td>21.000</td>\n",
       "      <td>24.00000</td>\n",
       "      <td>29.0000</td>\n",
       "      <td>41.00000</td>\n",
       "      <td>81.00</td>\n",
       "    </tr>\n",
       "    <tr>\n",
       "      <th>Outcome</th>\n",
       "      <td>768.0</td>\n",
       "      <td>0.348958</td>\n",
       "      <td>0.476951</td>\n",
       "      <td>0.000</td>\n",
       "      <td>0.00000</td>\n",
       "      <td>0.0000</td>\n",
       "      <td>1.00000</td>\n",
       "      <td>1.00</td>\n",
       "    </tr>\n",
       "  </tbody>\n",
       "</table>\n",
       "</div>"
      ],
      "text/plain": [
       "                          count        mean         std     min       25%  \\\n",
       "Pregnancies               768.0    3.845052    3.369578   0.000   1.00000   \n",
       "Glucose                   768.0  120.894531   31.972618   0.000  99.00000   \n",
       "BloodPressure             768.0   69.105469   19.355807   0.000  62.00000   \n",
       "SkinThickness             768.0   20.536458   15.952218   0.000   0.00000   \n",
       "Insulin                   768.0   79.799479  115.244002   0.000   0.00000   \n",
       "BMI                       768.0   31.992578    7.884160   0.000  27.30000   \n",
       "DiabetesPedigreeFunction  768.0    0.471876    0.331329   0.078   0.24375   \n",
       "Age                       768.0   33.240885   11.760232  21.000  24.00000   \n",
       "Outcome                   768.0    0.348958    0.476951   0.000   0.00000   \n",
       "\n",
       "                               50%        75%     max  \n",
       "Pregnancies                 3.0000    6.00000   17.00  \n",
       "Glucose                   117.0000  140.25000  199.00  \n",
       "BloodPressure              72.0000   80.00000  122.00  \n",
       "SkinThickness              23.0000   32.00000   99.00  \n",
       "Insulin                    30.5000  127.25000  846.00  \n",
       "BMI                        32.0000   36.60000   67.10  \n",
       "DiabetesPedigreeFunction    0.3725    0.62625    2.42  \n",
       "Age                        29.0000   41.00000   81.00  \n",
       "Outcome                     0.0000    1.00000    1.00  "
      ]
     },
     "execution_count": 19,
     "metadata": {},
     "output_type": "execute_result"
    }
   ],
   "source": [
    "df.shape\n",
    "df.describe().T"
   ]
  },
  {
   "cell_type": "code",
   "execution_count": 20,
   "id": "f7ce6bb9",
   "metadata": {
    "execution": {
     "iopub.execute_input": "2023-10-31T14:32:25.562872Z",
     "iopub.status.busy": "2023-10-31T14:32:25.562354Z",
     "iopub.status.idle": "2023-10-31T14:32:25.567819Z",
     "shell.execute_reply": "2023-10-31T14:32:25.566498Z"
    },
    "papermill": {
     "duration": 0.039935,
     "end_time": "2023-10-31T14:32:25.570627",
     "exception": false,
     "start_time": "2023-10-31T14:32:25.530692",
     "status": "completed"
    },
    "tags": []
   },
   "outputs": [],
   "source": [
    "dataset=df"
   ]
  },
  {
   "cell_type": "code",
   "execution_count": 21,
   "id": "ad9674f0",
   "metadata": {
    "execution": {
     "iopub.execute_input": "2023-10-31T14:32:25.631086Z",
     "iopub.status.busy": "2023-10-31T14:32:25.630598Z",
     "iopub.status.idle": "2023-10-31T14:32:25.650287Z",
     "shell.execute_reply": "2023-10-31T14:32:25.649120Z"
    },
    "papermill": {
     "duration": 0.053548,
     "end_time": "2023-10-31T14:32:25.653227",
     "exception": false,
     "start_time": "2023-10-31T14:32:25.599679",
     "status": "completed"
    },
    "tags": []
   },
   "outputs": [
    {
     "data": {
      "text/html": [
       "<div>\n",
       "<style scoped>\n",
       "    .dataframe tbody tr th:only-of-type {\n",
       "        vertical-align: middle;\n",
       "    }\n",
       "\n",
       "    .dataframe tbody tr th {\n",
       "        vertical-align: top;\n",
       "    }\n",
       "\n",
       "    .dataframe thead th {\n",
       "        text-align: right;\n",
       "    }\n",
       "</style>\n",
       "<table border=\"1\" class=\"dataframe\">\n",
       "  <thead>\n",
       "    <tr style=\"text-align: right;\">\n",
       "      <th></th>\n",
       "      <th>Glucose</th>\n",
       "      <th>BloodPressure</th>\n",
       "      <th>SkinThickness</th>\n",
       "      <th>Insulin</th>\n",
       "      <th>BMI</th>\n",
       "    </tr>\n",
       "  </thead>\n",
       "  <tbody>\n",
       "    <tr>\n",
       "      <th>0</th>\n",
       "      <td>148</td>\n",
       "      <td>72</td>\n",
       "      <td>35</td>\n",
       "      <td>0</td>\n",
       "      <td>33.6</td>\n",
       "    </tr>\n",
       "    <tr>\n",
       "      <th>1</th>\n",
       "      <td>85</td>\n",
       "      <td>66</td>\n",
       "      <td>29</td>\n",
       "      <td>0</td>\n",
       "      <td>26.6</td>\n",
       "    </tr>\n",
       "    <tr>\n",
       "      <th>2</th>\n",
       "      <td>183</td>\n",
       "      <td>64</td>\n",
       "      <td>0</td>\n",
       "      <td>0</td>\n",
       "      <td>23.3</td>\n",
       "    </tr>\n",
       "    <tr>\n",
       "      <th>3</th>\n",
       "      <td>89</td>\n",
       "      <td>66</td>\n",
       "      <td>23</td>\n",
       "      <td>94</td>\n",
       "      <td>28.1</td>\n",
       "    </tr>\n",
       "    <tr>\n",
       "      <th>4</th>\n",
       "      <td>137</td>\n",
       "      <td>40</td>\n",
       "      <td>35</td>\n",
       "      <td>168</td>\n",
       "      <td>43.1</td>\n",
       "    </tr>\n",
       "    <tr>\n",
       "      <th>...</th>\n",
       "      <td>...</td>\n",
       "      <td>...</td>\n",
       "      <td>...</td>\n",
       "      <td>...</td>\n",
       "      <td>...</td>\n",
       "    </tr>\n",
       "    <tr>\n",
       "      <th>763</th>\n",
       "      <td>101</td>\n",
       "      <td>76</td>\n",
       "      <td>48</td>\n",
       "      <td>180</td>\n",
       "      <td>32.9</td>\n",
       "    </tr>\n",
       "    <tr>\n",
       "      <th>764</th>\n",
       "      <td>122</td>\n",
       "      <td>70</td>\n",
       "      <td>27</td>\n",
       "      <td>0</td>\n",
       "      <td>36.8</td>\n",
       "    </tr>\n",
       "    <tr>\n",
       "      <th>765</th>\n",
       "      <td>121</td>\n",
       "      <td>72</td>\n",
       "      <td>23</td>\n",
       "      <td>112</td>\n",
       "      <td>26.2</td>\n",
       "    </tr>\n",
       "    <tr>\n",
       "      <th>766</th>\n",
       "      <td>126</td>\n",
       "      <td>60</td>\n",
       "      <td>0</td>\n",
       "      <td>0</td>\n",
       "      <td>30.1</td>\n",
       "    </tr>\n",
       "    <tr>\n",
       "      <th>767</th>\n",
       "      <td>93</td>\n",
       "      <td>70</td>\n",
       "      <td>31</td>\n",
       "      <td>0</td>\n",
       "      <td>30.4</td>\n",
       "    </tr>\n",
       "  </tbody>\n",
       "</table>\n",
       "<p>768 rows × 5 columns</p>\n",
       "</div>"
      ],
      "text/plain": [
       "     Glucose  BloodPressure  SkinThickness  Insulin   BMI\n",
       "0        148             72             35        0  33.6\n",
       "1         85             66             29        0  26.6\n",
       "2        183             64              0        0  23.3\n",
       "3         89             66             23       94  28.1\n",
       "4        137             40             35      168  43.1\n",
       "..       ...            ...            ...      ...   ...\n",
       "763      101             76             48      180  32.9\n",
       "764      122             70             27        0  36.8\n",
       "765      121             72             23      112  26.2\n",
       "766      126             60              0        0  30.1\n",
       "767       93             70             31        0  30.4\n",
       "\n",
       "[768 rows x 5 columns]"
      ]
     },
     "execution_count": 21,
     "metadata": {},
     "output_type": "execute_result"
    }
   ],
   "source": [
    "dataset[[\"Glucose\",\"BloodPressure\",\"SkinThickness\",\"Insulin\",\"BMI\"]]"
   ]
  },
  {
   "cell_type": "code",
   "execution_count": 22,
   "id": "6e8a560a",
   "metadata": {
    "execution": {
     "iopub.execute_input": "2023-10-31T14:32:25.716109Z",
     "iopub.status.busy": "2023-10-31T14:32:25.715601Z",
     "iopub.status.idle": "2023-10-31T14:32:25.726085Z",
     "shell.execute_reply": "2023-10-31T14:32:25.725080Z"
    },
    "papermill": {
     "duration": 0.044441,
     "end_time": "2023-10-31T14:32:25.728724",
     "exception": false,
     "start_time": "2023-10-31T14:32:25.684283",
     "status": "completed"
    },
    "tags": []
   },
   "outputs": [],
   "source": [
    "dataset[[\"Glucose\",\"BloodPressure\",\"SkinThickness\",\"Insulin\"]] = dataset[[\"Glucose\",\"BloodPressure\",\"SkinThickness\",\"Insulin\"]].replace(0, np.nan)"
   ]
  },
  {
   "cell_type": "code",
   "execution_count": 23,
   "id": "7192e13b",
   "metadata": {
    "execution": {
     "iopub.execute_input": "2023-10-31T14:32:25.791428Z",
     "iopub.status.busy": "2023-10-31T14:32:25.790337Z",
     "iopub.status.idle": "2023-10-31T14:32:25.801526Z",
     "shell.execute_reply": "2023-10-31T14:32:25.799996Z"
    },
    "papermill": {
     "duration": 0.046182,
     "end_time": "2023-10-31T14:32:25.804507",
     "exception": false,
     "start_time": "2023-10-31T14:32:25.758325",
     "status": "completed"
    },
    "tags": []
   },
   "outputs": [
    {
     "data": {
      "text/plain": [
       "Pregnancies                   0\n",
       "Glucose                       5\n",
       "BloodPressure                35\n",
       "SkinThickness               227\n",
       "Insulin                     374\n",
       "BMI                           0\n",
       "DiabetesPedigreeFunction      0\n",
       "Age                           0\n",
       "Outcome                       0\n",
       "dtype: int64"
      ]
     },
     "execution_count": 23,
     "metadata": {},
     "output_type": "execute_result"
    }
   ],
   "source": [
    "dataset.isnull().sum()"
   ]
  },
  {
   "cell_type": "code",
   "execution_count": 24,
   "id": "f33ea621",
   "metadata": {
    "execution": {
     "iopub.execute_input": "2023-10-31T14:32:25.868940Z",
     "iopub.status.busy": "2023-10-31T14:32:25.867698Z",
     "iopub.status.idle": "2023-10-31T14:32:25.880224Z",
     "shell.execute_reply": "2023-10-31T14:32:25.878951Z"
    },
    "papermill": {
     "duration": 0.048563,
     "end_time": "2023-10-31T14:32:25.883884",
     "exception": false,
     "start_time": "2023-10-31T14:32:25.835321",
     "status": "completed"
    },
    "tags": []
   },
   "outputs": [],
   "source": [
    "dataset[\"Glucose\"]=dataset[\"Glucose\"].fillna(dataset[\"Glucose\"].mean())\n",
    "dataset[\"BloodPressure\"]=dataset[\"BloodPressure\"].fillna(dataset[\"BloodPressure\"].mean())\n",
    "dataset[\"SkinThickness\"]=dataset[\"SkinThickness\"].fillna(dataset[\"SkinThickness\"].mean())\n",
    "dataset[\"Insulin\"]=dataset[\"Insulin\"].fillna(dataset[\"Insulin\"].mean())"
   ]
  },
  {
   "cell_type": "code",
   "execution_count": 25,
   "id": "6da63063",
   "metadata": {
    "execution": {
     "iopub.execute_input": "2023-10-31T14:32:25.946662Z",
     "iopub.status.busy": "2023-10-31T14:32:25.946194Z",
     "iopub.status.idle": "2023-10-31T14:32:25.957225Z",
     "shell.execute_reply": "2023-10-31T14:32:25.955914Z"
    },
    "papermill": {
     "duration": 0.045082,
     "end_time": "2023-10-31T14:32:25.959967",
     "exception": false,
     "start_time": "2023-10-31T14:32:25.914885",
     "status": "completed"
    },
    "tags": []
   },
   "outputs": [],
   "source": [
    "def outlier_thresholds(dataframe, col_name, q1=0.05, q3=0.95):#25 75 yerine yapılır.\n",
    "    quartile1 = dataframe[col_name].quantile(q1)\n",
    "    quartile3 = dataframe[col_name].quantile(q3)\n",
    "    interquantile_range = quartile3 - quartile1\n",
    "    up_limit = quartile3 + 1.5 * interquantile_range\n",
    "    low_limit = quartile1 - 1.5 * interquantile_range\n",
    "    return low_limit, up_limit\n",
    "\n",
    "def check_outlier(dataframe, col_name):\n",
    "    low_limit, up_limit = outlier_thresholds(dataframe, col_name)\n",
    "    if dataframe[(dataframe[col_name] > up_limit) | (dataframe[col_name] < low_limit)].any(axis=None):\n",
    "        return True\n",
    "    else:\n",
    "        return False\n",
    "\n",
    "def replace_with_thresholds(dataframe, variable):\n",
    "    low_limit, up_limit = outlier_thresholds(dataframe, variable)\n",
    "    dataframe.loc[(dataframe[variable] < low_limit), variable] = low_limit\n",
    "    dataframe.loc[(dataframe[variable] > up_limit), variable] = up_limit\n"
   ]
  },
  {
   "cell_type": "code",
   "execution_count": 26,
   "id": "4e26c88f",
   "metadata": {
    "execution": {
     "iopub.execute_input": "2023-10-31T14:32:26.022521Z",
     "iopub.status.busy": "2023-10-31T14:32:26.021957Z",
     "iopub.status.idle": "2023-10-31T14:32:26.058999Z",
     "shell.execute_reply": "2023-10-31T14:32:26.057162Z"
    },
    "papermill": {
     "duration": 0.072445,
     "end_time": "2023-10-31T14:32:26.061960",
     "exception": false,
     "start_time": "2023-10-31T14:32:25.989515",
     "status": "completed"
    },
    "tags": []
   },
   "outputs": [
    {
     "name": "stdout",
     "output_type": "stream",
     "text": [
      "Pregnancies : False\n",
      "Glucose : False\n",
      "BloodPressure : False\n",
      "SkinThickness : True\n",
      "Insulin : True\n",
      "BMI : False\n",
      "DiabetesPedigreeFunction : False\n",
      "Age : False\n"
     ]
    }
   ],
   "source": [
    "for col in cols:\n",
    "    print(col,\":\",check_outlier(dataset,col))"
   ]
  },
  {
   "cell_type": "code",
   "execution_count": 27,
   "id": "afafcef5",
   "metadata": {
    "execution": {
     "iopub.execute_input": "2023-10-31T14:32:26.124287Z",
     "iopub.status.busy": "2023-10-31T14:32:26.123785Z",
     "iopub.status.idle": "2023-10-31T14:32:26.142507Z",
     "shell.execute_reply": "2023-10-31T14:32:26.141271Z"
    },
    "papermill": {
     "duration": 0.053349,
     "end_time": "2023-10-31T14:32:26.145455",
     "exception": false,
     "start_time": "2023-10-31T14:32:26.092106",
     "status": "completed"
    },
    "tags": []
   },
   "outputs": [
    {
     "data": {
      "text/plain": [
       "False"
      ]
     },
     "execution_count": 27,
     "metadata": {},
     "output_type": "execute_result"
    }
   ],
   "source": [
    "replace_with_thresholds(dataset,\"Insulin\")\n",
    "replace_with_thresholds(dataset,\"SkinThickness\")\n",
    "check_outlier(dataset,col)"
   ]
  },
  {
   "cell_type": "code",
   "execution_count": 28,
   "id": "a19ecfa5",
   "metadata": {
    "execution": {
     "iopub.execute_input": "2023-10-31T14:32:26.210702Z",
     "iopub.status.busy": "2023-10-31T14:32:26.210220Z",
     "iopub.status.idle": "2023-10-31T14:32:26.256979Z",
     "shell.execute_reply": "2023-10-31T14:32:26.255590Z"
    },
    "papermill": {
     "duration": 0.084582,
     "end_time": "2023-10-31T14:32:26.260465",
     "exception": false,
     "start_time": "2023-10-31T14:32:26.175883",
     "status": "completed"
    },
    "tags": []
   },
   "outputs": [],
   "source": [
    "for col in cols:     #targetsiz olan columnları standartlastırmak.\n",
    "    dataset[col]=RobustScaler().fit_transform(df[[col]])\n"
   ]
  },
  {
   "cell_type": "code",
   "execution_count": 29,
   "id": "41b65685",
   "metadata": {
    "execution": {
     "iopub.execute_input": "2023-10-31T14:32:26.324828Z",
     "iopub.status.busy": "2023-10-31T14:32:26.324375Z",
     "iopub.status.idle": "2023-10-31T14:32:26.343554Z",
     "shell.execute_reply": "2023-10-31T14:32:26.342163Z"
    },
    "papermill": {
     "duration": 0.054367,
     "end_time": "2023-10-31T14:32:26.346527",
     "exception": false,
     "start_time": "2023-10-31T14:32:26.292160",
     "status": "completed"
    },
    "tags": []
   },
   "outputs": [
    {
     "data": {
      "text/html": [
       "<div>\n",
       "<style scoped>\n",
       "    .dataframe tbody tr th:only-of-type {\n",
       "        vertical-align: middle;\n",
       "    }\n",
       "\n",
       "    .dataframe tbody tr th {\n",
       "        vertical-align: top;\n",
       "    }\n",
       "\n",
       "    .dataframe thead th {\n",
       "        text-align: right;\n",
       "    }\n",
       "</style>\n",
       "<table border=\"1\" class=\"dataframe\">\n",
       "  <thead>\n",
       "    <tr style=\"text-align: right;\">\n",
       "      <th></th>\n",
       "      <th>Pregnancies</th>\n",
       "      <th>Glucose</th>\n",
       "      <th>BloodPressure</th>\n",
       "      <th>SkinThickness</th>\n",
       "      <th>Insulin</th>\n",
       "      <th>BMI</th>\n",
       "      <th>DiabetesPedigreeFunction</th>\n",
       "      <th>Age</th>\n",
       "      <th>Outcome</th>\n",
       "    </tr>\n",
       "  </thead>\n",
       "  <tbody>\n",
       "    <tr>\n",
       "      <th>0</th>\n",
       "      <td>0.6</td>\n",
       "      <td>0.765432</td>\n",
       "      <td>-0.012662</td>\n",
       "      <td>0.835226</td>\n",
       "      <td>0.000000</td>\n",
       "      <td>0.172043</td>\n",
       "      <td>0.665359</td>\n",
       "      <td>1.235294</td>\n",
       "      <td>1</td>\n",
       "    </tr>\n",
       "    <tr>\n",
       "      <th>1</th>\n",
       "      <td>-0.4</td>\n",
       "      <td>-0.790123</td>\n",
       "      <td>-0.387662</td>\n",
       "      <td>-0.021917</td>\n",
       "      <td>0.000000</td>\n",
       "      <td>-0.580645</td>\n",
       "      <td>-0.056209</td>\n",
       "      <td>0.117647</td>\n",
       "      <td>0</td>\n",
       "    </tr>\n",
       "    <tr>\n",
       "      <th>2</th>\n",
       "      <td>1.0</td>\n",
       "      <td>1.629630</td>\n",
       "      <td>-0.512662</td>\n",
       "      <td>0.000000</td>\n",
       "      <td>0.000000</td>\n",
       "      <td>-0.935484</td>\n",
       "      <td>0.783007</td>\n",
       "      <td>0.176471</td>\n",
       "      <td>1</td>\n",
       "    </tr>\n",
       "    <tr>\n",
       "      <th>3</th>\n",
       "      <td>-0.4</td>\n",
       "      <td>-0.691358</td>\n",
       "      <td>-0.387662</td>\n",
       "      <td>-0.879060</td>\n",
       "      <td>-1.807678</td>\n",
       "      <td>-0.419355</td>\n",
       "      <td>-0.537255</td>\n",
       "      <td>-0.470588</td>\n",
       "      <td>0</td>\n",
       "    </tr>\n",
       "    <tr>\n",
       "      <th>4</th>\n",
       "      <td>-0.6</td>\n",
       "      <td>0.493827</td>\n",
       "      <td>-2.012662</td>\n",
       "      <td>0.835226</td>\n",
       "      <td>0.365710</td>\n",
       "      <td>1.193548</td>\n",
       "      <td>5.007843</td>\n",
       "      <td>0.235294</td>\n",
       "      <td>1</td>\n",
       "    </tr>\n",
       "  </tbody>\n",
       "</table>\n",
       "</div>"
      ],
      "text/plain": [
       "   Pregnancies   Glucose  BloodPressure  SkinThickness   Insulin       BMI  \\\n",
       "0          0.6  0.765432      -0.012662       0.835226  0.000000  0.172043   \n",
       "1         -0.4 -0.790123      -0.387662      -0.021917  0.000000 -0.580645   \n",
       "2          1.0  1.629630      -0.512662       0.000000  0.000000 -0.935484   \n",
       "3         -0.4 -0.691358      -0.387662      -0.879060 -1.807678 -0.419355   \n",
       "4         -0.6  0.493827      -2.012662       0.835226  0.365710  1.193548   \n",
       "\n",
       "   DiabetesPedigreeFunction       Age  Outcome  \n",
       "0                  0.665359  1.235294        1  \n",
       "1                 -0.056209  0.117647        0  \n",
       "2                  0.783007  0.176471        1  \n",
       "3                 -0.537255 -0.470588        0  \n",
       "4                  5.007843  0.235294        1  "
      ]
     },
     "execution_count": 29,
     "metadata": {},
     "output_type": "execute_result"
    }
   ],
   "source": [
    "scaled=pd.DataFrame(dataset)\n",
    "scaled.head()"
   ]
  },
  {
   "cell_type": "code",
   "execution_count": 30,
   "id": "867154c5",
   "metadata": {
    "execution": {
     "iopub.execute_input": "2023-10-31T14:32:26.409949Z",
     "iopub.status.busy": "2023-10-31T14:32:26.409158Z",
     "iopub.status.idle": "2023-10-31T14:32:26.419724Z",
     "shell.execute_reply": "2023-10-31T14:32:26.418508Z"
    },
    "papermill": {
     "duration": 0.045043,
     "end_time": "2023-10-31T14:32:26.422220",
     "exception": false,
     "start_time": "2023-10-31T14:32:26.377177",
     "status": "completed"
    },
    "tags": []
   },
   "outputs": [
    {
     "data": {
      "text/plain": [
       "Pregnancies                 0\n",
       "Glucose                     0\n",
       "BloodPressure               0\n",
       "SkinThickness               0\n",
       "Insulin                     0\n",
       "BMI                         0\n",
       "DiabetesPedigreeFunction    0\n",
       "Age                         0\n",
       "Outcome                     0\n",
       "dtype: int64"
      ]
     },
     "execution_count": 30,
     "metadata": {},
     "output_type": "execute_result"
    }
   ],
   "source": [
    "scaled.isnull().sum()"
   ]
  },
  {
   "cell_type": "code",
   "execution_count": 31,
   "id": "48432a89",
   "metadata": {
    "execution": {
     "iopub.execute_input": "2023-10-31T14:32:26.485864Z",
     "iopub.status.busy": "2023-10-31T14:32:26.485031Z",
     "iopub.status.idle": "2023-10-31T14:32:26.490535Z",
     "shell.execute_reply": "2023-10-31T14:32:26.489628Z"
    },
    "papermill": {
     "duration": 0.040915,
     "end_time": "2023-10-31T14:32:26.493000",
     "exception": false,
     "start_time": "2023-10-31T14:32:26.452085",
     "status": "completed"
    },
    "tags": []
   },
   "outputs": [],
   "source": [
    "scaled=df"
   ]
  },
  {
   "cell_type": "code",
   "execution_count": 32,
   "id": "954b2de8",
   "metadata": {
    "execution": {
     "iopub.execute_input": "2023-10-31T14:32:26.556139Z",
     "iopub.status.busy": "2023-10-31T14:32:26.555340Z",
     "iopub.status.idle": "2023-10-31T14:32:26.560398Z",
     "shell.execute_reply": "2023-10-31T14:32:26.559447Z"
    },
    "papermill": {
     "duration": 0.039948,
     "end_time": "2023-10-31T14:32:26.562968",
     "exception": false,
     "start_time": "2023-10-31T14:32:26.523020",
     "status": "completed"
    },
    "tags": []
   },
   "outputs": [],
   "source": [
    "#modeling"
   ]
  },
  {
   "cell_type": "code",
   "execution_count": 33,
   "id": "b3653f67",
   "metadata": {
    "execution": {
     "iopub.execute_input": "2023-10-31T14:32:26.626689Z",
     "iopub.status.busy": "2023-10-31T14:32:26.625845Z",
     "iopub.status.idle": "2023-10-31T14:32:26.633068Z",
     "shell.execute_reply": "2023-10-31T14:32:26.632141Z"
    },
    "papermill": {
     "duration": 0.042585,
     "end_time": "2023-10-31T14:32:26.635687",
     "exception": false,
     "start_time": "2023-10-31T14:32:26.593102",
     "status": "completed"
    },
    "tags": []
   },
   "outputs": [],
   "source": [
    "X=df.drop(\"Outcome\",axis=1) #bağımsız değişkenler\n",
    "y=df[\"Outcome\"] #target"
   ]
  },
  {
   "cell_type": "code",
   "execution_count": 34,
   "id": "2214deb1",
   "metadata": {
    "execution": {
     "iopub.execute_input": "2023-10-31T14:32:26.698496Z",
     "iopub.status.busy": "2023-10-31T14:32:26.697978Z",
     "iopub.status.idle": "2023-10-31T14:32:26.719534Z",
     "shell.execute_reply": "2023-10-31T14:32:26.718249Z"
    },
    "papermill": {
     "duration": 0.056977,
     "end_time": "2023-10-31T14:32:26.722762",
     "exception": false,
     "start_time": "2023-10-31T14:32:26.665785",
     "status": "completed"
    },
    "tags": []
   },
   "outputs": [],
   "source": [
    "from sklearn.linear_model import LogisticRegression\n",
    "logistic_reg=LogisticRegression(random_state=18).fit(X,y)"
   ]
  },
  {
   "cell_type": "code",
   "execution_count": 35,
   "id": "37061b0d",
   "metadata": {
    "execution": {
     "iopub.execute_input": "2023-10-31T14:32:26.786081Z",
     "iopub.status.busy": "2023-10-31T14:32:26.785547Z",
     "iopub.status.idle": "2023-10-31T14:32:26.794015Z",
     "shell.execute_reply": "2023-10-31T14:32:26.792767Z"
    },
    "papermill": {
     "duration": 0.043684,
     "end_time": "2023-10-31T14:32:26.796493",
     "exception": false,
     "start_time": "2023-10-31T14:32:26.752809",
     "status": "completed"
    },
    "tags": []
   },
   "outputs": [
    {
     "data": {
      "text/plain": [
       "array([[ 0.5975981 ,  1.45306752, -0.0876365 ,  0.06637104, -0.01728558,\n",
       "         0.68996021,  0.33681229,  0.20908072]])"
      ]
     },
     "execution_count": 35,
     "metadata": {},
     "output_type": "execute_result"
    }
   ],
   "source": [
    "logistic_reg.intercept_\n",
    "logistic_reg.coef_"
   ]
  },
  {
   "cell_type": "code",
   "execution_count": 36,
   "id": "83f7ba4b",
   "metadata": {
    "execution": {
     "iopub.execute_input": "2023-10-31T14:32:26.859918Z",
     "iopub.status.busy": "2023-10-31T14:32:26.858443Z",
     "iopub.status.idle": "2023-10-31T14:32:26.864612Z",
     "shell.execute_reply": "2023-10-31T14:32:26.863125Z"
    },
    "papermill": {
     "duration": 0.041127,
     "end_time": "2023-10-31T14:32:26.867609",
     "exception": false,
     "start_time": "2023-10-31T14:32:26.826482",
     "status": "completed"
    },
    "tags": []
   },
   "outputs": [],
   "source": [
    "#prediction"
   ]
  },
  {
   "cell_type": "code",
   "execution_count": 37,
   "id": "0e4b40e4",
   "metadata": {
    "execution": {
     "iopub.execute_input": "2023-10-31T14:32:26.931229Z",
     "iopub.status.busy": "2023-10-31T14:32:26.930739Z",
     "iopub.status.idle": "2023-10-31T14:32:26.941311Z",
     "shell.execute_reply": "2023-10-31T14:32:26.939893Z"
    },
    "papermill": {
     "duration": 0.04536,
     "end_time": "2023-10-31T14:32:26.943797",
     "exception": false,
     "start_time": "2023-10-31T14:32:26.898437",
     "status": "completed"
    },
    "tags": []
   },
   "outputs": [
    {
     "name": "stdout",
     "output_type": "stream",
     "text": [
      "[1 0 1 0 1 0 0 0 1 0]\n",
      "0    1\n",
      "1    0\n",
      "2    1\n",
      "3    0\n",
      "4    1\n",
      "5    0\n",
      "6    1\n",
      "7    0\n",
      "8    1\n",
      "9    1\n",
      "Name: Outcome, dtype: int64\n"
     ]
    }
   ],
   "source": [
    "y_pred=logistic_reg.predict(X)\n",
    "print(y_pred[0:10])#tahmin edilen target\n",
    "print(y[0:10]) #gerçekte olan y"
   ]
  },
  {
   "cell_type": "code",
   "execution_count": 38,
   "id": "d898470f",
   "metadata": {
    "execution": {
     "iopub.execute_input": "2023-10-31T14:32:27.006657Z",
     "iopub.status.busy": "2023-10-31T14:32:27.006178Z",
     "iopub.status.idle": "2023-10-31T14:32:27.018772Z",
     "shell.execute_reply": "2023-10-31T14:32:27.017517Z"
    },
    "papermill": {
     "duration": 0.047223,
     "end_time": "2023-10-31T14:32:27.021530",
     "exception": false,
     "start_time": "2023-10-31T14:32:26.974307",
     "status": "completed"
    },
    "tags": []
   },
   "outputs": [
    {
     "data": {
      "text/plain": [
       "1.0"
      ]
     },
     "execution_count": 38,
     "metadata": {},
     "output_type": "execute_result"
    }
   ],
   "source": [
    "accuracy=logistic_reg.score(X,y_pred)\n",
    "accuracy"
   ]
  },
  {
   "cell_type": "code",
   "execution_count": 39,
   "id": "6b708663",
   "metadata": {
    "execution": {
     "iopub.execute_input": "2023-10-31T14:32:27.086944Z",
     "iopub.status.busy": "2023-10-31T14:32:27.085990Z",
     "iopub.status.idle": "2023-10-31T14:32:27.096294Z",
     "shell.execute_reply": "2023-10-31T14:32:27.095362Z"
    },
    "papermill": {
     "duration": 0.046133,
     "end_time": "2023-10-31T14:32:27.098548",
     "exception": false,
     "start_time": "2023-10-31T14:32:27.052415",
     "status": "completed"
    },
    "tags": []
   },
   "outputs": [
    {
     "data": {
      "text/plain": [
       "array([[442,  58],\n",
       "       [117, 151]])"
      ]
     },
     "execution_count": 39,
     "metadata": {},
     "output_type": "execute_result"
    }
   ],
   "source": [
    "conf=confusion_matrix(y,y_pred) \n",
    "conf"
   ]
  },
  {
   "cell_type": "code",
   "execution_count": 40,
   "id": "dd90a1aa",
   "metadata": {
    "execution": {
     "iopub.execute_input": "2023-10-31T14:32:27.166454Z",
     "iopub.status.busy": "2023-10-31T14:32:27.165926Z",
     "iopub.status.idle": "2023-10-31T14:32:27.182321Z",
     "shell.execute_reply": "2023-10-31T14:32:27.181216Z"
    },
    "papermill": {
     "duration": 0.055817,
     "end_time": "2023-10-31T14:32:27.185180",
     "exception": false,
     "start_time": "2023-10-31T14:32:27.129363",
     "status": "completed"
    },
    "tags": []
   },
   "outputs": [
    {
     "name": "stdout",
     "output_type": "stream",
     "text": [
      "              precision    recall  f1-score   support\n",
      "\n",
      "           0       0.79      0.88      0.83       500\n",
      "           1       0.72      0.56      0.63       268\n",
      "\n",
      "    accuracy                           0.77       768\n",
      "   macro avg       0.76      0.72      0.73       768\n",
      "weighted avg       0.77      0.77      0.76       768\n",
      "\n"
     ]
    }
   ],
   "source": [
    "print(classification_report(y,y_pred))"
   ]
  },
  {
   "cell_type": "code",
   "execution_count": 41,
   "id": "ff8194d9",
   "metadata": {
    "execution": {
     "iopub.execute_input": "2023-10-31T14:32:27.251266Z",
     "iopub.status.busy": "2023-10-31T14:32:27.250696Z",
     "iopub.status.idle": "2023-10-31T14:32:27.583784Z",
     "shell.execute_reply": "2023-10-31T14:32:27.582090Z"
    },
    "papermill": {
     "duration": 0.368901,
     "end_time": "2023-10-31T14:32:27.586711",
     "exception": false,
     "start_time": "2023-10-31T14:32:27.217810",
     "status": "completed"
    },
    "tags": []
   },
   "outputs": [
    {
     "data": {
      "image/png": "[encoded data removed]",
      "text/plain": [
       "<Figure size 640x480 with 2 Axes>"
      ]
     },
     "metadata": {},
     "output_type": "display_data"
    },
    {
     "name": "stdout",
     "output_type": "stream",
     "text": [
      "              precision    recall  f1-score   support\n",
      "\n",
      "           0       0.79      0.88      0.83       500\n",
      "           1       0.72      0.56      0.63       268\n",
      "\n",
      "    accuracy                           0.77       768\n",
      "   macro avg       0.76      0.72      0.73       768\n",
      "weighted avg       0.77      0.77      0.76       768\n",
      "\n"
     ]
    }
   ],
   "source": [
    "def plot_confusion_matrix(y, y_pred): \n",
    "    acc = round(accuracy_score(y, y_pred), 2)\n",
    "    cm = confusion_matrix(y, y_pred)\n",
    "    sns.heatmap(cm, annot=True, fmt=\".0f\")\n",
    "    plt.xlabel('y_pred')\n",
    "    plt.ylabel('y')\n",
    "    plt.title('Accuracy Score: {0}'.format(acc), size=10)\n",
    "    plt.show()\n",
    "\n",
    "plot_confusion_matrix(y, y_pred)\n",
    "\n",
    "print(classification_report(y, y_pred))"
   ]
  },
  {
   "cell_type": "code",
   "execution_count": 42,
   "id": "dd4a9337",
   "metadata": {
    "execution": {
     "iopub.execute_input": "2023-10-31T14:32:27.652192Z",
     "iopub.status.busy": "2023-10-31T14:32:27.651627Z",
     "iopub.status.idle": "2023-10-31T14:32:27.657478Z",
     "shell.execute_reply": "2023-10-31T14:32:27.656286Z"
    },
    "papermill": {
     "duration": 0.04171,
     "end_time": "2023-10-31T14:32:27.660012",
     "exception": false,
     "start_time": "2023-10-31T14:32:27.618302",
     "status": "completed"
    },
    "tags": []
   },
   "outputs": [],
   "source": [
    "#accuracy:doğru sınıflandırma oranı.precision:1 olarak yaptığımız tahminler ne kadar başarılı recall:1 olanları ne kadar bilgisi"
   ]
  },
  {
   "cell_type": "code",
   "execution_count": 43,
   "id": "52439279",
   "metadata": {
    "execution": {
     "iopub.execute_input": "2023-10-31T14:32:27.726223Z",
     "iopub.status.busy": "2023-10-31T14:32:27.724974Z",
     "iopub.status.idle": "2023-10-31T14:32:27.742386Z",
     "shell.execute_reply": "2023-10-31T14:32:27.741140Z"
    },
    "papermill": {
     "duration": 0.053587,
     "end_time": "2023-10-31T14:32:27.745313",
     "exception": false,
     "start_time": "2023-10-31T14:32:27.691726",
     "status": "completed"
    },
    "tags": []
   },
   "outputs": [
    {
     "data": {
      "text/plain": [
       "0.8416492537313434"
      ]
     },
     "execution_count": 43,
     "metadata": {},
     "output_type": "execute_result"
    }
   ],
   "source": [
    "y_prob=logistic_reg.predict_proba(X)[:,1] #1 sınıfına ait olma olasılığı\n",
    "roc_auc_score(y,y_prob) #roc_auc_score"
   ]
  },
  {
   "cell_type": "code",
   "execution_count": 44,
   "id": "a0a56357",
   "metadata": {
    "execution": {
     "iopub.execute_input": "2023-10-31T14:32:27.812195Z",
     "iopub.status.busy": "2023-10-31T14:32:27.811368Z",
     "iopub.status.idle": "2023-10-31T14:32:27.820133Z",
     "shell.execute_reply": "2023-10-31T14:32:27.819026Z"
    },
    "papermill": {
     "duration": 0.045911,
     "end_time": "2023-10-31T14:32:27.823091",
     "exception": false,
     "start_time": "2023-10-31T14:32:27.777180",
     "status": "completed"
    },
    "tags": []
   },
   "outputs": [],
   "source": [
    "#model validation \n",
    "from sklearn.model_selection import train_test_split\n",
    "X_train,X_test,y_train,y_test=train_test_split(X,y,random_state=17,test_size=0.20)"
   ]
  },
  {
   "cell_type": "code",
   "execution_count": 45,
   "id": "4277bdf8",
   "metadata": {
    "execution": {
     "iopub.execute_input": "2023-10-31T14:32:27.889388Z",
     "iopub.status.busy": "2023-10-31T14:32:27.888667Z",
     "iopub.status.idle": "2023-10-31T14:32:27.905437Z",
     "shell.execute_reply": "2023-10-31T14:32:27.904118Z"
    },
    "papermill": {
     "duration": 0.053711,
     "end_time": "2023-10-31T14:32:27.908392",
     "exception": false,
     "start_time": "2023-10-31T14:32:27.854681",
     "status": "completed"
    },
    "tags": []
   },
   "outputs": [],
   "source": [
    "logistic_reg=LogisticRegression().fit(X_train,y_train)\n",
    "y_pred=logistic_reg.predict(X_test)#tahmin edilen değerle"
   ]
  },
  {
   "cell_type": "code",
   "execution_count": 46,
   "id": "889f25b0",
   "metadata": {
    "execution": {
     "iopub.execute_input": "2023-10-31T14:32:27.974827Z",
     "iopub.status.busy": "2023-10-31T14:32:27.973922Z",
     "iopub.status.idle": "2023-10-31T14:32:27.991929Z",
     "shell.execute_reply": "2023-10-31T14:32:27.989945Z"
    },
    "papermill": {
     "duration": 0.054893,
     "end_time": "2023-10-31T14:32:27.994656",
     "exception": false,
     "start_time": "2023-10-31T14:32:27.939763",
     "status": "completed"
    },
    "tags": []
   },
   "outputs": [
    {
     "name": "stdout",
     "output_type": "stream",
     "text": [
      "              precision    recall  f1-score   support\n",
      "\n",
      "           0       0.75      0.91      0.82        97\n",
      "           1       0.76      0.49      0.60        57\n",
      "\n",
      "    accuracy                           0.75       154\n",
      "   macro avg       0.75      0.70      0.71       154\n",
      "weighted avg       0.75      0.75      0.74       154\n",
      "\n"
     ]
    }
   ],
   "source": [
    "y_prob=logistic_reg.predict_proba(X_test)[:,1] #1 sınıfına ait olma olasılığı\n",
    "print(classification_report(y_test,y_pred))"
   ]
  },
  {
   "cell_type": "code",
   "execution_count": 47,
   "id": "9b647d3f",
   "metadata": {
    "execution": {
     "iopub.execute_input": "2023-10-31T14:32:28.060352Z",
     "iopub.status.busy": "2023-10-31T14:32:28.059464Z",
     "iopub.status.idle": "2023-10-31T14:32:28.064102Z",
     "shell.execute_reply": "2023-10-31T14:32:28.063197Z"
    },
    "papermill": {
     "duration": 0.040385,
     "end_time": "2023-10-31T14:32:28.066479",
     "exception": false,
     "start_time": "2023-10-31T14:32:28.026094",
     "status": "completed"
    },
    "tags": []
   },
   "outputs": [],
   "source": [
    "#model görmediği veriyi görünce başarısız görünüyor bu yüzden 10 katlı cross validaton yapılmalıdır."
   ]
  },
  {
   "cell_type": "code",
   "execution_count": 48,
   "id": "da418f9b",
   "metadata": {
    "execution": {
     "iopub.execute_input": "2023-10-31T14:32:28.132556Z",
     "iopub.status.busy": "2023-10-31T14:32:28.131921Z",
     "iopub.status.idle": "2023-10-31T14:32:28.142862Z",
     "shell.execute_reply": "2023-10-31T14:32:28.141935Z"
    },
    "papermill": {
     "duration": 0.046788,
     "end_time": "2023-10-31T14:32:28.145350",
     "exception": false,
     "start_time": "2023-10-31T14:32:28.098562",
     "status": "completed"
    },
    "tags": []
   },
   "outputs": [
    {
     "data": {
      "text/plain": [
       "0.8705009947549286"
      ]
     },
     "execution_count": 48,
     "metadata": {},
     "output_type": "execute_result"
    }
   ],
   "source": [
    "roc_auc_score(y_test, y_prob) #roc_auc değeri artmış durumda random state değişirse accuracy de değişir."
   ]
  },
  {
   "cell_type": "code",
   "execution_count": 49,
   "id": "860994ba",
   "metadata": {
    "execution": {
     "iopub.execute_input": "2023-10-31T14:32:28.213837Z",
     "iopub.status.busy": "2023-10-31T14:32:28.212988Z",
     "iopub.status.idle": "2023-10-31T14:32:28.219765Z",
     "shell.execute_reply": "2023-10-31T14:32:28.218596Z"
    },
    "papermill": {
     "duration": 0.044651,
     "end_time": "2023-10-31T14:32:28.222503",
     "exception": false,
     "start_time": "2023-10-31T14:32:28.177852",
     "status": "completed"
    },
    "tags": []
   },
   "outputs": [],
   "source": [
    "X=df.drop(\"Outcome\",axis=1) #bütün veri ile en baştan 10 fol cross validation\n",
    "y=df[\"Outcome\"]\n",
    "#veri seti az ise bütün veriyi kullananrak yapılabilir."
   ]
  },
  {
   "cell_type": "code",
   "execution_count": 50,
   "id": "334c6aa1",
   "metadata": {
    "execution": {
     "iopub.execute_input": "2023-10-31T14:32:28.288352Z",
     "iopub.status.busy": "2023-10-31T14:32:28.287819Z",
     "iopub.status.idle": "2023-10-31T14:32:28.302511Z",
     "shell.execute_reply": "2023-10-31T14:32:28.301212Z"
    },
    "papermill": {
     "duration": 0.05097,
     "end_time": "2023-10-31T14:32:28.305402",
     "exception": false,
     "start_time": "2023-10-31T14:32:28.254432",
     "status": "completed"
    },
    "tags": []
   },
   "outputs": [],
   "source": [
    "logistic_reg=LogisticRegression().fit(X,y)"
   ]
  },
  {
   "cell_type": "code",
   "execution_count": 51,
   "id": "b931119f",
   "metadata": {
    "execution": {
     "iopub.execute_input": "2023-10-31T14:32:28.371744Z",
     "iopub.status.busy": "2023-10-31T14:32:28.371232Z",
     "iopub.status.idle": "2023-10-31T14:32:28.487088Z",
     "shell.execute_reply": "2023-10-31T14:32:28.485789Z"
    },
    "papermill": {
     "duration": 0.152771,
     "end_time": "2023-10-31T14:32:28.490164",
     "exception": false,
     "start_time": "2023-10-31T14:32:28.337393",
     "status": "completed"
    },
    "tags": []
   },
   "outputs": [],
   "source": [
    "cv_result=cross_validate(logistic_reg,X,y,cv=5,\n",
    "                         scoring=[\"accuracy\",\"precision\",\"recall\",\"f1\",\"roc_auc\"])"
   ]
  },
  {
   "cell_type": "code",
   "execution_count": 52,
   "id": "f632d397",
   "metadata": {
    "execution": {
     "iopub.execute_input": "2023-10-31T14:32:28.557955Z",
     "iopub.status.busy": "2023-10-31T14:32:28.557469Z",
     "iopub.status.idle": "2023-10-31T14:32:28.568697Z",
     "shell.execute_reply": "2023-10-31T14:32:28.567303Z"
    },
    "papermill": {
     "duration": 0.049058,
     "end_time": "2023-10-31T14:32:28.571602",
     "exception": false,
     "start_time": "2023-10-31T14:32:28.522544",
     "status": "completed"
    },
    "tags": []
   },
   "outputs": [
    {
     "name": "stdout",
     "output_type": "stream",
     "text": [
      "0.7695696460402341\n",
      "0.7202032051035373\n",
      "0.5635220125786164\n",
      "0.6310402420942383\n"
     ]
    },
    {
     "data": {
      "text/plain": [
       "0.8351278825995807"
      ]
     },
     "execution_count": 52,
     "metadata": {},
     "output_type": "execute_result"
    }
   ],
   "source": [
    "print(cv_result[\"test_accuracy\"].mean()) #5 katlı olduğu için 5 değer geldi değerlerin ortalaması alınır\n",
    "print(cv_result[\"test_precision\"].mean())\n",
    "print(cv_result[\"test_recall\"].mean())\n",
    "print(cv_result[\"test_f1\"].mean())\n",
    "cv_result[\"test_roc_auc\"].mean()\n"
   ]
  },
  {
   "cell_type": "code",
   "execution_count": 53,
   "id": "cd93abd6",
   "metadata": {
    "execution": {
     "iopub.execute_input": "2023-10-31T14:32:28.638178Z",
     "iopub.status.busy": "2023-10-31T14:32:28.637674Z",
     "iopub.status.idle": "2023-10-31T14:32:28.649806Z",
     "shell.execute_reply": "2023-10-31T14:32:28.648626Z"
    },
    "papermill": {
     "duration": 0.048434,
     "end_time": "2023-10-31T14:32:28.652141",
     "exception": false,
     "start_time": "2023-10-31T14:32:28.603707",
     "status": "completed"
    },
    "tags": []
   },
   "outputs": [
    {
     "data": {
      "text/plain": [
       "array([0])"
      ]
     },
     "execution_count": 53,
     "metadata": {},
     "output_type": "execute_result"
    }
   ],
   "source": [
    "person=X.sample(1,random_state=18)\n",
    "person\n",
    "logistic_reg.predict(person)"
   ]
  },
  {
   "cell_type": "code",
   "execution_count": null,
   "id": "1329dc15",
   "metadata": {
    "papermill": {
     "duration": 0.032538,
     "end_time": "2023-10-31T14:32:28.716799",
     "exception": false,
     "start_time": "2023-10-31T14:32:28.684261",
     "status": "completed"
    },
    "tags": []
   },
   "outputs": [],
   "source": []
  },
  {
   "cell_type": "code",
   "execution_count": null,
   "id": "eacfd3a6",
   "metadata": {
    "papermill": {
     "duration": 0.031933,
     "end_time": "2023-10-31T14:32:28.781085",
     "exception": false,
     "start_time": "2023-10-31T14:32:28.749152",
     "status": "completed"
    },
    "tags": []
   },
   "outputs": [],
   "source": []
  },
  {
   "cell_type": "code",
   "execution_count": null,
   "id": "33eebb7f",
   "metadata": {
    "papermill": {
     "duration": 0.031612,
     "end_time": "2023-10-31T14:32:28.845057",
     "exception": false,
     "start_time": "2023-10-31T14:32:28.813445",
     "status": "completed"
    },
    "tags": []
   },
   "outputs": [],
   "source": []
  },
  {
   "cell_type": "code",
   "execution_count": null,
   "id": "d2d2d85a",
   "metadata": {
    "papermill": {
     "duration": 0.032259,
     "end_time": "2023-10-31T14:32:28.909550",
     "exception": false,
     "start_time": "2023-10-31T14:32:28.877291",
     "status": "completed"
    },
    "tags": []
   },
   "outputs": [],
   "source": []
  }
 ],
 "metadata": {
  "kernelspec": {
   "display_name": "Python 3",
   "language": "python",
   "name": "python3"
  },
  "language_info": {
   "codemirror_mode": {
    "name": "ipython",
    "version": 3
   },
   "file_extension": ".py",
   "mimetype": "text/x-python",
   "name": "python",
   "nbconvert_exporter": "python",
   "pygments_lexer": "ipython3",
   "version": "3.10.12"
  },
  "papermill": {
   "default_parameters": {},
   "duration": 18.470518,
   "end_time": "2023-10-31T14:32:29.966995",
   "environment_variables": {},
   "exception": null,
   "input_path": "__notebook__.ipynb",
   "output_path": "__notebook__.ipynb",
   "parameters": {},
   "start_time": "2023-10-31T14:32:11.496477",
   "version": "2.4.0"
  }
 },
 "nbformat": 4,
 "nbformat_minor": 5
}
